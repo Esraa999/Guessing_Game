{
  "nbformat": 4,
  "nbformat_minor": 0,
  "metadata": {
    "kernelspec": {
      "display_name": "Python 3",
      "language": "python",
      "name": "python3"
    },
    "language_info": {
      "codemirror_mode": {
        "name": "ipython",
        "version": 3
      },
      "file_extension": ".py",
      "mimetype": "text/x-python",
      "name": "python",
      "nbconvert_exporter": "python",
      "pygments_lexer": "ipython3",
      "version": "3.6.2"
    },
    "colab": {
      "name": "Copy of Python Challenge Guessing Game.ipynb",
      "provenance": [],
      "include_colab_link": true
    }
  },
  "cells": [
    {
      "cell_type": "markdown",
      "metadata": {
        "id": "view-in-github",
        "colab_type": "text"
      },
      "source": [
        "<a href=\"https://colab.research.google.com/github/Esraa999/Guessing_Game/blob/main/Copy_of_Python_Challenge_Guessing_Game.ipynb\" target=\"_parent\"><img src=\"https://colab.research.google.com/assets/colab-badge.svg\" alt=\"Open In Colab\"/></a>"
      ]
    },
    {
      "cell_type": "markdown",
      "metadata": {
        "id": "NQuOyznPahpH"
      },
      "source": [
        "# Guessing Game Challenge\n",
        "\n",
        "Let's use `while` loops to create a guessing game.\n",
        "\n",
        "The Challenge:\n",
        "\n",
        "Write a program that picks a random integer from 1 to 100, and has players guess the number. The rules are:\n",
        "\n",
        "1. If a player's guess is less than 1 or greater than 100, say \"OUT OF BOUNDS\"\n",
        "\n",
        "2. On all turns, if a guess is \n",
        " * closer to the number than the previous guess return \"Closer!\"\n",
        " * farther from the number than the previous guess, return \"Farther!\"\n",
        "3. When the player's guess equals the number, tell them they've guessed correctly *and* how many guesses it took!\n",
        "\n",
        "Now Lets o fro the Steps!"
      ]
    },
    {
      "cell_type": "markdown",
      "metadata": {
        "id": "6K7SSiaEahpK"
      },
      "source": [
        "#### First, Build a Line of Code that can Return arandom integer from 1 to 100 and store this number in object called Actual"
      ]
    },
    {
      "cell_type": "code",
      "metadata": {
        "id": "8R7ayXGwahpL",
        "colab": {
          "base_uri": "https://localhost:8080/"
        },
        "outputId": "57941124-4bf4-41d7-8c21-3bfc72a5f3d6"
      },
      "source": [
        "#Type Your Code Here  - Replace None with Correct  Function  \n",
        "from random import randint\n",
        "Actual = randint(1,100)\n",
        "print(Actual)"
      ],
      "execution_count": null,
      "outputs": [
        {
          "output_type": "stream",
          "text": [
            "47\n"
          ],
          "name": "stdout"
        }
      ]
    },
    {
      "cell_type": "markdown",
      "metadata": {
        "id": "la65uFUjahpO"
      },
      "source": [
        "#### Next, build a Code to display an introduction to the Game to tell the user the Boundaries from 1 to 100 and what is his target."
      ]
    },
    {
      "cell_type": "code",
      "metadata": {
        "id": "cpMGPRNT7F-J",
        "colab": {
          "base_uri": "https://localhost:8080/"
        },
        "outputId": "760137c9-4256-460b-931a-4e631c6f4240"
      },
      "source": [
        "#Type Your Code here \n",
        "print(\"Please guess a number from 1 to 100\")"
      ],
      "execution_count": null,
      "outputs": [
        {
          "output_type": "stream",
          "text": [
            "Please guess a number from 1 to 100\n"
          ],
          "name": "stdout"
        }
      ]
    },
    {
      "cell_type": "markdown",
      "metadata": {
        "id": "GyW_z6Sf74yG"
      },
      "source": [
        "### Next, Build a Code that takes an integer input from the user "
      ]
    },
    {
      "cell_type": "code",
      "metadata": {
        "id": "UZCNvK4o82k-",
        "colab": {
          "base_uri": "https://localhost:8080/"
        },
        "outputId": "d7c9d0cb-63d2-47a3-8102-5b7ab3473c91"
      },
      "source": [
        "#Type Your Code Here - Replace None With Correct Function \n",
        "guessesno=0\n",
        "Guess= int(input(\"type your guessed number:\"))\n",
        "guessesno=guessesno+1\n",
        "\n"
      ],
      "execution_count": null,
      "outputs": [
        {
          "output_type": "stream",
          "text": [
            "type your guessed number:3\n"
          ],
          "name": "stdout"
        }
      ]
    },
    {
      "cell_type": "markdown",
      "metadata": {
        "id": "BHsh0slo834l"
      },
      "source": [
        "### Next, Put the Upper Cell in A Loop that keeps checking if the Number is Out of Bounds or Not  "
      ]
    },
    {
      "cell_type": "code",
      "metadata": {
        "id": "Xx00D-J89xsk",
        "colab": {
          "base_uri": "https://localhost:8080/"
        },
        "outputId": "31b09e9b-e14b-4d51-f967-53b79a9b0b81"
      },
      "source": [
        "#Replace None Values with correct conditions or Booleans\n",
        " \n",
        "if Guess<1 or Guess>100:\n",
        "  print (\"incorrt guess range\")\n",
        "else:\n",
        "  print(\"correct guess range\")\n",
        "  \n",
        "\n",
        "\n"
      ],
      "execution_count": null,
      "outputs": [
        {
          "output_type": "stream",
          "text": [
            "correct guess range\n"
          ],
          "name": "stdout"
        }
      ]
    },
    {
      "cell_type": "markdown",
      "metadata": {
        "id": "d-USlvx8dNak"
      },
      "source": [
        "### Next, Build a Code that Check if the Guess is equal to the Actual Random Number"
      ]
    },
    {
      "cell_type": "code",
      "metadata": {
        "id": "E95mJnFNdfiW",
        "colab": {
          "base_uri": "https://localhost:8080/"
        },
        "outputId": "755e2311-b5b3-4c11-8c48-a14e0eedf6da"
      },
      "source": [
        "guesses= [] #Make it an Empty List\n",
        "while(Guess>1 and Guess<100):\n",
        "  # Take input from user \n",
        "  if  Guess!=Actual:\n",
        "     print(\"incorrect guess\")\n",
        "     Guess=int(input(\"Please try again  \"))\n",
        "     guessesno=guessesno+1\n",
        "     \n",
        "   # if right then print something\n",
        "  else:\n",
        "    print (\"Wow, you've guessed Correctly this time\") #Fix \n",
        "    print('You have guessed it in {} times'.format(guessesno))\n",
        "    break\n",
        "    \n",
        "     \n",
        "\n"
      ],
      "execution_count": null,
      "outputs": [
        {
          "output_type": "stream",
          "text": [
            "incorrect guess\n",
            "Please try again  6\n",
            "incorrect guess\n",
            "Please try again  4\n",
            "incorrect guess\n",
            "Please try again  7\n",
            "incorrect guess\n",
            "Please try again  100\n"
          ],
          "name": "stdout"
        }
      ]
    },
    {
      "cell_type": "markdown",
      "metadata": {
        "id": "VWNf49z6WVek"
      },
      "source": [
        "[link text](https:// [link text](https://))### Next, Build a Code that Check on Each Guess whether its closer than the Previous Guess or not."
      ]
    },
    {
      "cell_type": "code",
      "metadata": {
        "id": "O7McDw6pbVfX",
        "colab": {
          "base_uri": "https://localhost:8080/"
        },
        "outputId": "da7de2e1-92ec-4628-cbfe-8574e49ca15f"
      },
      "source": [
        "Difference=abs(Actual-Guess)\n",
        "\n",
        "if Difference<10  :\n",
        "  print(' you are closer to target ')\n",
        "else:\n",
        "  print(' you are far from the target ')\n",
        "\n"
      ],
      "execution_count": null,
      "outputs": [
        {
          "output_type": "stream",
          "text": [
            " you are far from the target \n"
          ],
          "name": "stdout"
        }
      ]
    },
    {
      "cell_type": "markdown",
      "metadata": {
        "id": "v-wMuTZLahpY"
      },
      "source": [
        "#### Write a `while` loop that compares the player's guess to our number. If the player guesses correctly, break from the loop. Otherwise, tell the player if they're Closer or Farer , and continue asking for guesses.\n",
        "\n",
        "**Try to Collect All the cells you 've made above and use it here**\n",
        "\n",
        "Hint:\n",
        "\n",
        "\n",
        "* you can use the `abs()` function to find the positive difference between two numbers\n",
        "\n",
        "\n",
        "# Decomposition \n",
        "\n",
        "*   Choosing Random Number\n",
        "*   Game Intro for the User\n",
        "*   Checking on the Inserted Guess if its in boundary or not\n",
        "*   Checking on the Inserted Guess if its equal to the Random Number or Not\n",
        "*   Checking on the Inserted Guess if its Far or Close from the Previous Guess.\n",
        "\n",
        "\n",
        "\n"
      ]
    },
    {
      "cell_type": "code",
      "metadata": {
        "id": "FaifUKKUahpZ"
      },
      "source": [
        "# Type your Final Code here\n"
      ],
      "execution_count": null,
      "outputs": []
    },
    {
      "cell_type": "code",
      "metadata": {
        "id": "3WmFudWAl7gi",
        "colab": {
          "base_uri": "https://localhost:8080/"
        },
        "outputId": "9b3e5a0d-94c0-421d-fc37-94df9cd19277"
      },
      "source": [
        "# Type here the Big Loop\n",
        "Game_End=False\n",
        "while Game_End==False :\n",
        "  from random import randint\n",
        "  Actual = randint(1,100)\n",
        "  print(\"Actual is\",Actual)\n",
        "  print(\"Please guess a number from 1 to 100\")\n",
        "  guessesno=0\n",
        "  Guess= int(input(\"Type your guessed number:\"))\n",
        "  guessesno=guessesno+1\n",
        "  \n",
        "  \n",
        "  guesses= [] #Make it an Empty List\n",
        "  while (Game_End==False):\n",
        "    if Guess<1 or Guess>100:\n",
        "      print (\"Incorrect guess range, Please guess a number from 1 to 100\")\n",
        "      Guess= int(input(\"Type your guessed number:\"))\n",
        "      guessesno=guessesno+1\n",
        "    \n",
        "    if  Guess!=Actual:\n",
        "      print(\"Incorrect guess\")\n",
        "      Difference=abs(Actual-Guess)\n",
        "      if Difference<10  :\n",
        "        print('You are closer to target ')\n",
        "      else:\n",
        "        print('You are far from the target ')\n",
        "      Guess=int(input(\"Please try again  \"))\n",
        "      guessesno=guessesno+1\n",
        "     \n",
        "    # if right then print something\n",
        "    else:\n",
        "      print (\"Wow, you've guessed Correctly this time\") #Fix \n",
        "      print('You have guessed it in {} times'.format(guessesno))\n",
        "      Game_End=True\n",
        "      break\n",
        "    \n",
        "\n",
        "    \n",
        "\n",
        "\n"
      ],
      "execution_count": 30,
      "outputs": [
        {
          "output_type": "stream",
          "text": [
            "Actual is 91\n",
            "Please guess a number from 1 to 100\n",
            "Type your guessed number:90\n",
            "Incorrect guess\n",
            "You are closer to target \n",
            "Please try again  71\n",
            "Incorrect guess\n",
            "You are far from the target \n",
            "Please try again  101\n",
            "Incorrect guess range, Please guess a number from 1 to 100\n",
            "Type your guessed number:91\n",
            "Wow, you've guessed Correctly this time\n",
            "You have guessed it in 4 times\n"
          ],
          "name": "stdout"
        }
      ]
    },
    {
      "cell_type": "code",
      "metadata": {
        "id": "fq1R890TTqCZ"
      },
      "source": [
        ""
      ],
      "execution_count": null,
      "outputs": []
    },
    {
      "cell_type": "markdown",
      "metadata": {
        "id": "5UZ7l5wEahpb"
      },
      "source": [
        "That's it! You've just programmed your first game!\n",
        "\n",
        "In the next section we'll learn how to turn some of these repetitive actions into *functions* that can be called whenever we need them."
      ]
    },
    {
      "cell_type": "markdown",
      "metadata": {
        "id": "HlHfgyZ9ahpc"
      },
      "source": [
        "### Good Job!"
      ]
    }
  ]
}